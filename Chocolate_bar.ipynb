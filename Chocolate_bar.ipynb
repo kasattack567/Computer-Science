{
  "nbformat": 4,
  "nbformat_minor": 0,
  "metadata": {
    "colab": {
      "provenance": [],
      "authorship_tag": "ABX9TyPNqsX6HdKI2eo9DcVBv4+v",
      "include_colab_link": true
    },
    "kernelspec": {
      "name": "python3",
      "display_name": "Python 3"
    },
    "language_info": {
      "name": "python"
    }
  },
  "cells": [
    {
      "cell_type": "markdown",
      "metadata": {
        "id": "view-in-github",
        "colab_type": "text"
      },
      "source": [
        "<a href=\"https://colab.research.google.com/github/kasattack567/Computer-Science/blob/main/Chocolate_bar.ipynb\" target=\"_parent\"><img src=\"https://colab.research.google.com/assets/colab-badge.svg\" alt=\"Open In Colab\"/></a>"
      ]
    },
    {
      "cell_type": "markdown",
      "source": [
        "# **1. The Chocolate Bar Problem: A Coding Challenge**\n",
        "\n",
        "## **Introduction:**\n",
        "In this problem, I use a heuristic and greedy approach to minimize the number of cuts to the chocolate bars.\n",
        "\n",
        "###**Method:**\n",
        "The method begins by checking if the total chocolate available is sufficient to satisfy all children. If it isn’t, the algorithm terminates immediately. Next, the bars and children's requirements are sorted in descending order. The largest child’s requirement is processed first, using the largest available bar. If the bar is larger than the requirement, a cut is made, and the leftover chocolate is reinserted for reuse. This ensures that no chocolate is wasted. The algorithm continues processing the remaining children while reusing remainders effectively. By prioritizing the largest requirements and bars, the method guarantees that all children are satisfied without unnecessary cuts, and it terminates successfully as long as the initial feasibility condition is met.\n",
        "\n",
        "###**By ensuring that:**\n",
        "\n",
        "sum(bars)\n",
        "≥\n",
        "sum(children)\n",
        "sum(bars)≥sum(children),\n",
        "\n",
        "No chocolate is wasted (remainders are reused),\n",
        "\n",
        "The largest requirements are satisfied first (greedy choice),\n",
        "\n",
        "The algorithm always terminates successfully and satisfies all children without returning -1, provided the initial feasibility condition holds. This guarantees that the method will reach a valid solution and avoids errors."
      ],
      "metadata": {
        "id": "f4jAQCobhlR7"
      }
    },
    {
      "cell_type": "markdown",
      "source": [
        "Approach 1:\n",
        "\n",
        "Greedy approach, use every acsending and descending combination with children and bars, taking only the lowest number of cuts since some combinations perfrom better in certain situations that others."
      ],
      "metadata": {
        "id": "Fz6VMQlTZ6OA"
      }
    },
    {
      "cell_type": "code",
      "source": [
        "def remove_matches(b, c):\n",
        "    i = 0\n",
        "    while i < len(c):\n",
        "        if c[i] in b:\n",
        "            b.remove(c[i])\n",
        "            c.pop(i)\n",
        "        else:\n",
        "            i += 1\n",
        "\n",
        "\n",
        "def chocolate_challenge(bars, children, bars_descending=True, children_descending=True):\n",
        "    if sum(bars) < sum(children):\n",
        "        return -1\n",
        "\n",
        "    bars_sorted = sorted(bars, reverse=bars_descending)\n",
        "    children_sorted = sorted(children, reverse=children_descending)\n",
        "\n",
        "    remove_matches(bars_sorted, children_sorted)\n",
        "\n",
        "    cuts = 0\n",
        "    while children_sorted:\n",
        "        current_child = children_sorted.pop(0)\n",
        "        while current_child > 0:\n",
        "            if not bars_sorted:\n",
        "                return -1\n",
        "            current_bar = bars_sorted.pop(0)\n",
        "            if current_bar == current_child:\n",
        "                current_child = 0\n",
        "            elif current_bar > current_child:\n",
        "                cuts += 1\n",
        "                remainder = current_bar - current_child\n",
        "                if remainder > 0:\n",
        "                    bars_sorted.append(remainder)\n",
        "                    bars_sorted.sort(reverse=bars_descending)\n",
        "                current_child = 0\n",
        "            else:\n",
        "                current_child -= current_bar\n",
        "        remove_matches(bars_sorted, children_sorted)\n",
        "\n",
        "    return cuts\n",
        "\n",
        "def best_chocolate_strategy(bars, children):\n",
        "    # Run the four sorting strategies with the baseline approach\n",
        "    attempts = []\n",
        "    attempts.append(chocolate_challenge(bars, children, True, True))    # Bars Desc, Children Desc\n",
        "    attempts.append(chocolate_challenge(bars, children, False, True))   # Bars Asc, Children Desc\n",
        "    attempts.append(chocolate_challenge(bars, children, True, False))   # Bars Desc, Children Asc\n",
        "    attempts.append(chocolate_challenge(bars, children, False, False))  # Bars Asc, Children Asc\n",
        "\n",
        "    # Filter results\n",
        "    valid_results = [res for res in attempts if res != -1]\n",
        "\n",
        "    if not valid_results:\n",
        "        # All -1\n",
        "        return -1\n",
        "    else:\n",
        "        return min(valid_results)\n",
        "\n",
        "\n",
        "# Test combined function\n",
        "test_cases = [\n",
        "    {\"bars\": [9, 6, 6, 6, 5], \"children\": [8, 8, 6], \"expected\": 2},\n",
        "    {\"bars\": [15,15,2,2,2], \"children\": [10,10,9], \"expected\": 2},\n",
        "    {\"bars\": [10, 10, 1,1,1,1,1,1], \"children\": [5,5,5,5,2,2,2], \"expected\": 2},\n",
        "    {\"bars\": [2, 5], \"children\": [5, 3], \"expected\": -1},\n",
        "    {\"bars\": [50,50,5,5,5,5,5], \"children\": [25,25,25,25,20], \"expected\": 2},\n",
        "]\n",
        "\n",
        "for i, case in enumerate(test_cases, 1):\n",
        "    result = best_chocolate_strategy(case[\"bars\"], case[\"children\"])\n",
        "    print(f\"Test Case {i}:\")\n",
        "    print(f\"Bars: {case['bars']}, Children: {case['children']}\")\n",
        "    print(f\"Expected: {case['expected']}, Got: {result}\")\n",
        "    print(\"PASS\" if result == case[\"expected\"] else \"FAIL\")\n",
        "    print()\n"
      ],
      "metadata": {
        "id": "nXKdQB2WpG0P",
        "outputId": "740b164f-46a9-4c1b-fb98-5bfe38cbb311",
        "colab": {
          "base_uri": "https://localhost:8080/"
        }
      },
      "execution_count": 34,
      "outputs": [
        {
          "output_type": "stream",
          "name": "stdout",
          "text": [
            "Test Case 1:\n",
            "Bars: [9, 6, 6, 6, 5], Children: [8, 8, 6]\n",
            "Expected: 2, Got: 2\n",
            "PASS\n",
            "\n",
            "Test Case 2:\n",
            "Bars: [15, 15, 2, 2, 2], Children: [10, 10, 9]\n",
            "Expected: 2, Got: 3\n",
            "FAIL\n",
            "\n",
            "Test Case 3:\n",
            "Bars: [10, 10, 1, 1, 1, 1, 1, 1], Children: [5, 5, 5, 5, 2, 2, 2]\n",
            "Expected: 2, Got: 2\n",
            "PASS\n",
            "\n",
            "Test Case 4:\n",
            "Bars: [2, 5], Children: [5, 3]\n",
            "Expected: -1, Got: -1\n",
            "PASS\n",
            "\n",
            "Test Case 5:\n",
            "Bars: [50, 50, 5, 5, 5, 5, 5], Children: [25, 25, 25, 25, 20]\n",
            "Expected: 2, Got: 2\n",
            "PASS\n",
            "\n"
          ]
        }
      ]
    },
    {
      "cell_type": "markdown",
      "source": [
        "Approach 2:\n",
        "\n",
        "Quadratic dynamic programming , good for inputs that require..."
      ],
      "metadata": {
        "id": "GK55_aAdQbUu"
      }
    },
    {
      "cell_type": "code",
      "source": [
        "def minimal_cuts_optimized(bars, children, bars_order=\"desc\", children_order=\"desc\"):\n",
        "    from collections import Counter\n",
        "\n",
        "    # Sort bars and children according to the provided order\n",
        "    if bars_order == \"asc\":\n",
        "        bars = sorted(bars)\n",
        "    else:\n",
        "        bars = sorted(bars, reverse=True)\n",
        "\n",
        "    if children_order == \"asc\":\n",
        "        children = sorted(children)\n",
        "    else:\n",
        "        children = sorted(children, reverse=True)\n",
        "\n",
        "    if sum(bars) < sum(children):\n",
        "        return -1\n",
        "\n",
        "    def subset_sum_dp(bars, target):\n",
        "        \"\"\"\n",
        "        Use DP to determine if a subset of bars can exactly match 'target'.\n",
        "        Returns the subset of bars used, or None if not possible.\n",
        "        \"\"\"\n",
        "        dp = [None] * (target + 1)\n",
        "        dp[0] = []  # Base case: sum 0 is achievable with no bars\n",
        "\n",
        "        for bar in bars:\n",
        "            for t in range(target, bar - 1, -1):\n",
        "                if dp[t - bar] is not None and dp[t] is None:\n",
        "                    dp[t] = dp[t - bar] + [bar]\n",
        "        return dp[target]\n",
        "\n",
        "    def update_bars(bars, used_bars, leftover=None):\n",
        "        \"\"\"\n",
        "        Update bars by removing used bars and adding leftover pieces.\n",
        "        \"\"\"\n",
        "        bar_counter = Counter(bars)\n",
        "        for bar in used_bars:\n",
        "            bar_counter[bar] -= 1\n",
        "        updated_bars = [b for b, cnt in bar_counter.items() for _ in range(cnt)]\n",
        "        if leftover:\n",
        "            updated_bars.append(leftover)\n",
        "        return sorted(updated_bars, reverse=(bars_order == \"desc\"))\n",
        "\n",
        "    total_cuts = 0\n",
        "\n",
        "    for demand in children:\n",
        "        # Step 1: Check for an exact match using DP\n",
        "        exact_match = subset_sum_dp(bars, demand)\n",
        "        if exact_match:\n",
        "            bars = update_bars(bars, exact_match)\n",
        "            continue\n",
        "\n",
        "        # Step 2: If no exact match, cut one larger bar\n",
        "        for bar in bars:\n",
        "            if bar > demand:\n",
        "                leftover = bar - demand\n",
        "                bars = update_bars(bars, [bar], leftover)\n",
        "                total_cuts += 1\n",
        "                break\n",
        "        else:\n",
        "            # Step 3: Combine bars greedily until we meet or exceed the demand\n",
        "            total = 0\n",
        "            used_bars = []\n",
        "            for bar in bars:\n",
        "                used_bars.append(bar)\n",
        "                total += bar\n",
        "                if total >= demand:\n",
        "                    leftover = total - demand if total > demand else None\n",
        "                    bars = update_bars(bars, used_bars, leftover)\n",
        "                    total_cuts += 1 if leftover else 0\n",
        "                    break\n",
        "            else:\n",
        "                return -1  # Not enough bars to satisfy the demand\n",
        "\n",
        "    return total_cuts\n",
        "\n",
        "\n",
        "# Test case function to evaluate all 4 combinations\n",
        "def find_minimal_cuts_all_orders(bars, children):\n",
        "    orders = [(\"asc\", \"asc\"), (\"asc\", \"desc\"), (\"desc\", \"asc\"), (\"desc\", \"desc\")]\n",
        "    min_cuts = float(\"inf\")\n",
        "\n",
        "    for bars_order, children_order in orders:\n",
        "        result = minimal_cuts_optimized(bars, children, bars_order, children_order)\n",
        "        if result != -1:\n",
        "            min_cuts = min(min_cuts, result)\n",
        "\n",
        "    return min_cuts if min_cuts != float(\"inf\") else -1\n",
        "\n",
        "\n",
        "# Test combined function\n",
        "test_cases = [\n",
        "    {\"bars\": [9, 6, 6, 6, 5], \"children\": [8, 8, 6], \"expected\": 2},\n",
        "    {\"bars\": [15,15,2,2], \"children\": [10,10,9], \"expected\": 2},\n",
        "    {\"bars\": [10, 10, 1,1,1,1,1,1], \"children\": [5,5,5,5,2,2,2], \"expected\": 2},\n",
        "    {\"bars\": [2, 5], \"children\": [5, 3], \"expected\": -1},\n",
        "    {\"bars\": [50,50,5,5,5,5,5], \"children\": [25,25,25,25,20], \"expected\": 2},\n",
        "]\n",
        "\n",
        "# Run combined strategy on test cases\n",
        "for i, case in enumerate(test_cases, 1):\n",
        "    bars = case[\"bars\"]\n",
        "    children = case[\"children\"]\n",
        "    expected = case[\"expected\"]\n",
        "    print(f\"\\nTest Case {i}: Bars = {bars}, Children = {children}\")\n",
        "    result = find_minimal_cuts_all_orders(bars, children)\n",
        "    print(f\"Result: {result}, Expected: {expected}\")\n",
        "    print(\"PASS\" if result == expected else \"FAIL\")"
      ],
      "metadata": {
        "id": "uAN3TP8wW1jt",
        "outputId": "7210c84f-367c-467b-e6c6-1bc5a4a515ce",
        "colab": {
          "base_uri": "https://localhost:8080/"
        }
      },
      "execution_count": 66,
      "outputs": [
        {
          "output_type": "stream",
          "name": "stdout",
          "text": [
            "\n",
            "Test Case 1: Bars = [9, 6, 6, 6, 5], Children = [8, 8, 6]\n",
            "Result: 2, Expected: 2\n",
            "PASS\n",
            "\n",
            "Test Case 2: Bars = [15, 15, 2, 2], Children = [10, 10, 9]\n",
            "Result: 2, Expected: 2\n",
            "PASS\n",
            "\n",
            "Test Case 3: Bars = [10, 10, 1, 1, 1, 1, 1, 1], Children = [5, 5, 5, 5, 2, 2, 2]\n",
            "Result: 2, Expected: 2\n",
            "PASS\n",
            "\n",
            "Test Case 4: Bars = [2, 5], Children = [5, 3]\n",
            "Result: -1, Expected: -1\n",
            "PASS\n",
            "\n",
            "Test Case 5: Bars = [50, 50, 5, 5, 5, 5, 5], Children = [25, 25, 25, 25, 20]\n",
            "Result: 2, Expected: 2\n",
            "PASS\n"
          ]
        }
      ]
    },
    {
      "cell_type": "code",
      "source": [
        "def minimal_cuts_optimized2(bars, children):\n",
        "    from collections import Counter\n",
        "\n",
        "    if sum(bars) < sum(children):\n",
        "        return -1\n",
        "\n",
        "    def subset_sum_dp(bars, target):\n",
        "        \"\"\" Use DP to determine if a subset of bars can exactly match 'target'. \"\"\"\n",
        "        dp = [None] * (target + 1)\n",
        "        dp[0] = []  # Base case: sum 0 is achievable with no bars\n",
        "\n",
        "        for bar in bars:\n",
        "            for t in range(target, bar - 1, -1):\n",
        "                if dp[t - bar] is not None and dp[t] is None:\n",
        "                    dp[t] = dp[t - bar] + [bar]\n",
        "        return dp[target]\n",
        "\n",
        "    def update_bars(bars, used_bars, leftover=None):\n",
        "        \"\"\" Update bars by removing used bars and adding leftover pieces. \"\"\"\n",
        "        bar_counter = Counter(bars)\n",
        "        for bar in used_bars:\n",
        "            bar_counter[bar] -= 1\n",
        "        updated_bars = [b for b, cnt in bar_counter.items() for _ in range(cnt)]\n",
        "        if leftover:\n",
        "            updated_bars.append(leftover)\n",
        "        return sorted(updated_bars, reverse=True)\n",
        "\n",
        "    bars = sorted(bars, reverse=True)\n",
        "    children = sorted(children, reverse=True)\n",
        "    total_cuts = 0\n",
        "\n",
        "    while children:\n",
        "        demand = children[0]  # Always try to satisfy the largest remaining demand\n",
        "\n",
        "        # Step 1: Check for an exact match using DP\n",
        "        exact_match = subset_sum_dp(bars, demand)\n",
        "        if exact_match:\n",
        "            bars = update_bars(bars, exact_match)\n",
        "            children.pop(0)\n",
        "            continue\n",
        "\n",
        "        # Step 2: If no exact match, cut one larger bar\n",
        "        for i, bar in enumerate(bars):\n",
        "            if bar > demand:\n",
        "                leftover = bar - demand\n",
        "                bars = update_bars(bars, [bar], leftover)\n",
        "                total_cuts += 1\n",
        "                children.pop(0)\n",
        "                break\n",
        "        else:\n",
        "            # Step 3: Combine bars greedily until we meet or exceed the demand\n",
        "            total = 0\n",
        "            used_bars = []\n",
        "            for bar in bars:\n",
        "                used_bars.append(bar)\n",
        "                total += bar\n",
        "                if total >= demand:\n",
        "                    leftover = total - demand if total > demand else None\n",
        "                    bars = update_bars(bars, used_bars, leftover)\n",
        "                    total_cuts += 1 if leftover else 0\n",
        "                    children.pop(0)\n",
        "                    break\n",
        "            else:\n",
        "                return -1  # Not enough bars to satisfy the demand\n",
        "\n",
        "    return total_cuts\n",
        "\n",
        "# Test cases\n",
        "test_cases = [\n",
        "    {\"bars\": [9, 6, 6, 6, 5], \"children\": [8, 8, 6], \"expected\": 2},\n",
        "    {\"bars\": [15, 15, 2, 2, 2], \"children\": [10, 10, 9], \"expected\": 2},\n",
        "    {\"bars\": [10, 10, 1, 1, 1, 1, 1, 1], \"children\": [5, 5, 5, 5, 2, 2, 2], \"expected\": 2},\n",
        "    {\"bars\": [2, 5], \"children\": [5, 3], \"expected\": -1},\n",
        "    {\"bars\": [50, 50, 5, 5, 5, 5, 5], \"children\": [25, 25, 25, 25, 21], \"expected\": 3},\n",
        "]\n",
        "# Run combined strategy on test cases\n",
        "for i, case in enumerate(test_cases, 1):\n",
        "    bars = case[\"bars\"]\n",
        "    children = case[\"children\"]\n",
        "    expected = case[\"expected\"]\n",
        "    print(f\"\\nTest Case {i}: Bars = {bars}, Children = {children}\")\n",
        "    result = minimal_cuts_optimized2(bars, children)\n",
        "    print(f\"Result: {result}, Expected: {expected}\")\n",
        "    print(\"PASS\" if result == expected else \"FAIL\")\n"
      ],
      "metadata": {
        "id": "UTagHC0bc-7T",
        "outputId": "c0a91fff-c6bb-4220-c0a1-fd6a6b536e39",
        "colab": {
          "base_uri": "https://localhost:8080/"
        }
      },
      "execution_count": 51,
      "outputs": [
        {
          "output_type": "stream",
          "name": "stdout",
          "text": [
            "\n",
            "Test Case 1: Bars = [9, 6, 6, 6, 5], Children = [8, 8, 6]\n",
            "Result: 2, Expected: 2\n",
            "PASS\n",
            "\n",
            "Test Case 2: Bars = [15, 15, 2, 2, 2], Children = [10, 10, 9]\n",
            "Result: 2, Expected: 2\n",
            "PASS\n",
            "\n",
            "Test Case 3: Bars = [10, 10, 1, 1, 1, 1, 1, 1], Children = [5, 5, 5, 5, 2, 2, 2]\n",
            "Result: 4, Expected: 2\n",
            "FAIL\n",
            "\n",
            "Test Case 4: Bars = [2, 5], Children = [5, 3]\n",
            "Result: -1, Expected: -1\n",
            "PASS\n",
            "\n",
            "Test Case 5: Bars = [50, 50, 5, 5, 5, 5, 5], Children = [25, 25, 25, 25, 21]\n",
            "Result: 3, Expected: 3\n",
            "PASS\n"
          ]
        }
      ]
    },
    {
      "cell_type": "markdown",
      "source": [
        "**Below**, I combine the two strategies, filtering for the lowest result to achieve the minimum cuts for each input. In cases where some strategies return `-1` (indicating failure) while others provide valid results, the `-1` is ignored, and the lowest valid solution from the other strategies is selected."
      ],
      "metadata": {
        "id": "K2HaGoj1jxfb"
      }
    },
    {
      "cell_type": "markdown",
      "source": [
        "\n",
        "I combined the two strategies—sorting-based greedy approach (best_chocolate_strategy) and the dynamic programming (DP) approach (minimal_cuts_optimized)—to leverage their complementary strengths in solving the problem of satisfying children's demands with minimal cuts. The greedy sorting strategy works well for cases where straightforward ordering of bars and demands (e.g., descending or ascending) can quickly minimize cuts through logical choices. It excels in scenarios with a relatively simple bar-to-demand mapping, such as Test Case 1, where bar sizes align closely with demands. However, it fails in situations requiring exact combinations of smaller bars or more intelligent bar cuts, like Test Case 2.\n",
        "\n",
        "On the other hand, the DP approach is designed to handle more complex cases where exact combinations of bars are necessary to meet demands optimally. For example, in Test Case 2, DP identifies precise combinations and produces the correct result of 2 cuts, where the greedy method fails. Yet, DP can struggle when there are numerous small demands and bars, as seen in Test Case 3. Here, the DP approach becomes inefficient or fails due to the inability to process a fragmented set of small bars and children's demands effectively.\n",
        "\n",
        "By combining these two strategies, I ensure robustness: the greedy sorting approach handles cases where simple ordering is sufficient, while the DP strategy fills gaps where exact solutions are required. This combined approach mitigates the weaknesses of each individual strategy and enhances overall performance and accuracy across diverse inputs."
      ],
      "metadata": {
        "id": "IORcgI9MRFPm"
      }
    },
    {
      "cell_type": "code",
      "source": [
        "def combined_chocolate_distribution(bars, children, debug=False):\n",
        "    \"\"\"\n",
        "    Combine DP strategy with greedy sorting strategy.\n",
        "    Returns the minimum cuts found from all valid strategies.\n",
        "    \"\"\"\n",
        "    # Step 1: Check if demands are fulfillable\n",
        "    if sum(bars) < sum(children):\n",
        "        return -1\n",
        "\n",
        "    # Step 2: Run the DP strategy\n",
        "    if debug:\n",
        "        print(\"Running DP Strategy...\")\n",
        "    dp_result = minimal_cuts_optimized(bars, children)\n",
        "\n",
        "    # Step 3: Run the four sorting strategies\n",
        "    if debug:\n",
        "        print(\"Running greedy Sorting strategy...\")\n",
        "    sorting_result = best_chocolate_strategy(bars, children)\n",
        "\n",
        "    # Step 4: Combine results\n",
        "    results = [dp_result, sorting_result]\n",
        "    valid_results = [res for res in results if res != -1]\n",
        "\n",
        "    if not valid_results:\n",
        "        return -1\n",
        "\n",
        "    return min(valid_results)\n",
        "\n",
        "# Test cases\n",
        "test_cases = [\n",
        "    {\"bars\": [9, 6, 6, 6, 5], \"children\": [8, 8, 6], \"expected\": 2},\n",
        "    {\"bars\": [15,15,2,2,2], \"children\": [10,10,9], \"expected\": 2},\n",
        "    {\"bars\": [10, 10, 1,1,1,1,1,1], \"children\": [5,5,5,5,2,2,2], \"expected\": 2},\n",
        "    {\"bars\": [2, 5], \"children\": [5, 3], \"expected\": -1},\n",
        "    {\"bars\": [50,50,5,5,5,5,5], \"children\": [25,25,25,25,20], \"expected\": 2},\n",
        "]\n",
        "\n",
        "# Run combined strategy on test cases\n",
        "for i, case in enumerate(test_cases, 1):\n",
        "    bars = case[\"bars\"]\n",
        "    children = case[\"children\"]\n",
        "    expected = case[\"expected\"]\n",
        "    print(f\"\\nTest Case {i}: Bars = {bars}, Children = {children}\")\n",
        "    result = combined_chocolate_distribution(bars, children, debug=True)\n",
        "    print(f\"Result: {result}, Expected: {expected}\")\n",
        "    print(\"PASS\" if result == expected else \"FAIL\")"
      ],
      "metadata": {
        "id": "h8aZqq-4THoA",
        "outputId": "a09e94db-9948-4779-e6ec-46b8d742a695",
        "colab": {
          "base_uri": "https://localhost:8080/"
        }
      },
      "execution_count": 60,
      "outputs": [
        {
          "output_type": "stream",
          "name": "stdout",
          "text": [
            "\n",
            "Test Case 1: Bars = [9, 6, 6, 6, 5], Children = [8, 8, 6]\n",
            "Running DP Strategy...\n",
            "Running greedy Sorting strategy...\n",
            "Result: 2, Expected: 2\n",
            "PASS\n",
            "\n",
            "Test Case 2: Bars = [15, 15, 2, 2, 2], Children = [10, 10, 9]\n",
            "Running DP Strategy...\n",
            "Running greedy Sorting strategy...\n",
            "Result: 2, Expected: 2\n",
            "PASS\n",
            "\n",
            "Test Case 3: Bars = [10, 10, 1, 1, 1, 1, 1, 1], Children = [5, 5, 5, 5, 2, 2, 2]\n",
            "Running DP Strategy...\n",
            "Running greedy Sorting strategy...\n",
            "Result: 2, Expected: 2\n",
            "PASS\n",
            "\n",
            "Test Case 4: Bars = [2, 5], Children = [5, 3]\n",
            "Result: -1, Expected: -1\n",
            "PASS\n",
            "\n",
            "Test Case 5: Bars = [50, 50, 5, 5, 5, 5, 5], Children = [25, 25, 25, 25, 20]\n",
            "Running DP Strategy...\n",
            "Running greedy Sorting strategy...\n",
            "Result: 2, Expected: 2\n",
            "PASS\n"
          ]
        }
      ]
    },
    {
      "cell_type": "markdown",
      "source": [
        "Comparison below shows the important effect of including the dynamic programming approach in reducing the number of cuts."
      ],
      "metadata": {
        "id": "vDt9esTBkJsw"
      }
    },
    {
      "cell_type": "code",
      "source": [
        "from tqdm import tqdm\n",
        "import random\n",
        "import matplotlib.pyplot as plt\n",
        "\n",
        "\n",
        "# Generating test data and calculating cuts with a loading bar\n",
        "input_sizes = range(0, 1000, 10)  # Input sizes from 0 to 1000 (in steps of 10)\n",
        "valid_cuts_1 = []  # Store valid results for the first strategy\n",
        "valid_cuts_2 = []  # Store valid results for the second strategy\n",
        "valid_input_sizes = []\n",
        "\n",
        "for size in tqdm(input_sizes, desc=\"Calculating cuts\"):\n",
        "    bars = [random.randint(1, 100) for _ in range(size)]\n",
        "    children = [random.randint(1, 100) for _ in range(size)]\n",
        "\n",
        "    # First strategy\n",
        "    result1 = best_chocolate_strategy(bars, children)\n",
        "    # Second strategy (re-run for comparison)\n",
        "    result2 = combined_chocolate_distribution(bars, children)\n",
        "\n",
        "    if result1 != -1 and result2 != -1:\n",
        "        valid_cuts_1.append(result1)\n",
        "        valid_cuts_2.append(result2)\n",
        "        valid_input_sizes.append(size)\n",
        "\n",
        "# Plotting the results (valid cuts only)\n",
        "plt.figure(figsize=(10, 6))\n",
        "plt.plot(valid_input_sizes, valid_cuts_1, linestyle='-', color='b', label=\"Strategy 1 Cuts\")\n",
        "plt.plot(valid_input_sizes, valid_cuts_2, linestyle='--', color='g', label=\"Strategy 2 Cuts\")\n",
        "plt.title(\"Number of Cuts vs Input Size (Valid Results Only)\")\n",
        "plt.xlabel(\"Input Size (Number of Bars and Children)\")\n",
        "plt.ylabel(\"Number of Cuts\")\n",
        "plt.legend()\n",
        "plt.grid(True)\n",
        "plt.show()\n"
      ],
      "metadata": {
        "id": "UyidJem6X-EU",
        "colab": {
          "base_uri": "https://localhost:8080/",
          "height": 581
        },
        "outputId": "a0b23e06-773a-458d-9af5-ea493537bc0b"
      },
      "execution_count": 63,
      "outputs": [
        {
          "output_type": "stream",
          "name": "stderr",
          "text": [
            "Calculating cuts: 100%|██████████| 100/100 [00:28<00:00,  3.54it/s]\n"
          ]
        },
        {
          "output_type": "display_data",
          "data": {
            "text/plain": [
              "<Figure size 1000x600 with 1 Axes>"
            ],
            "image/png": "[encoded data removed]"
          },
          "metadata": {}
        }
      ]
    },
    {
      "cell_type": "markdown",
      "source": [
        "Why combine the 2 stratergies instead of them being seperate ?"
      ],
      "metadata": {
        "id": "28r2_s9BQqlr"
      }
    }
  ]
}